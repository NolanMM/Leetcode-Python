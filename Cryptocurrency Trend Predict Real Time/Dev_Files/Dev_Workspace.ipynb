{
 "cells": [
  {
   "cell_type": "code",
   "execution_count": 1,
   "id": "c701f5c9-5b34-4ed1-a627-05b5826bd078",
   "metadata": {},
   "outputs": [],
   "source": [
    "import json\n",
    "import websocket\n",
    "import pandas as pd"
   ]
  },
  {
   "cell_type": "code",
   "execution_count": 2,
   "id": "ea8c0ca9-b1f5-47c3-92f3-57c4f7467203",
   "metadata": {},
   "outputs": [],
   "source": [
    "assets  = ['BTCUSDT',  'ETHUSDT', 'BNBUSDT']"
   ]
  },
  {
   "cell_type": "code",
   "execution_count": 5,
   "id": "5c43ffb4-bea1-40a2-bb7f-7add133affdb",
   "metadata": {},
   "outputs": [],
   "source": [
    "assets = [coin.lower()  +  '@kline_1m' for coin in assets]"
   ]
  },
  {
   "cell_type": "code",
   "execution_count": 6,
   "id": "7be537ef-42b7-49fc-a72c-c4e0d8023998",
   "metadata": {},
   "outputs": [],
   "source": [
    "assets = '/'.join(assets)"
   ]
  },
  {
   "cell_type": "code",
   "execution_count": 7,
   "id": "c5f7f73b-f00e-4242-86af-790bcf947019",
   "metadata": {},
   "outputs": [
    {
     "data": {
      "text/plain": [
       "'btcusdt@kline_1m/ethusdt@kline_1m/bnbusdt@kline_1m'"
      ]
     },
     "execution_count": 7,
     "metadata": {},
     "output_type": "execute_result"
    }
   ],
   "source": [
    "assets"
   ]
  },
  {
   "cell_type": "code",
   "execution_count": 46,
   "id": "e05bc93d-9fea-4858-ae08-aef6225dd2e7",
   "metadata": {},
   "outputs": [],
   "source": [
    "def on_message(ws, message):\n",
    "    global source\n",
    "    message = json.loads(message)\n",
    "    manipulationn(message)"
   ]
  },
  {
   "cell_type": "code",
   "execution_count": 47,
   "id": "8e4b6eda-78b5-413e-bb05-9a1e34bad3d8",
   "metadata": {},
   "outputs": [],
   "source": [
    "socket = \"wss://stream.binance.com:9443/stream?streams=\" + assets"
   ]
  },
  {
   "cell_type": "code",
   "execution_count": 48,
   "id": "7c5aa825-1ca8-4337-b91b-f6b6505c80e3",
   "metadata": {},
   "outputs": [
    {
     "data": {
      "text/plain": [
       "'wss://stream.binance.com:9443/stream?streams=btcusdt@kline_1m/ethusdt@kline_1m/bnbusdt@kline_1m'"
      ]
     },
     "execution_count": 48,
     "metadata": {},
     "output_type": "execute_result"
    }
   ],
   "source": [
    "socket"
   ]
  },
  {
   "cell_type": "code",
   "execution_count": 49,
   "id": "cc6f4a6e-53da-462d-932f-c5cd37c402c5",
   "metadata": {},
   "outputs": [
    {
     "data": {
      "text/plain": [
       "{'stream': 'btcusdt@kline_1m',\n",
       " 'data': {'e': 'kline',\n",
       "  'E': 1715571966127,\n",
       "  's': 'BTCUSDT',\n",
       "  'k': {'t': 1715571960000,\n",
       "   'T': 1715572019999,\n",
       "   's': 'BTCUSDT',\n",
       "   'i': '1m',\n",
       "   'f': 3596855405,\n",
       "   'L': 3596855526,\n",
       "   'o': '60925.13000000',\n",
       "   'c': '60936.69000000',\n",
       "   'h': '60936.69000000',\n",
       "   'l': '60925.13000000',\n",
       "   'v': '1.30884000',\n",
       "   'n': 122,\n",
       "   'x': False,\n",
       "   'q': '79747.73958460',\n",
       "   'V': '1.18716000',\n",
       "   'Q': '72333.56007060',\n",
       "   'B': '0'}}}"
      ]
     },
     "execution_count": 49,
     "metadata": {},
     "output_type": "execute_result"
    }
   ],
   "source": [
    "source"
   ]
  },
  {
   "cell_type": "code",
   "execution_count": 50,
   "id": "51e233db-0fb3-40d2-80a8-662ae91a06e2",
   "metadata": {},
   "outputs": [
    {
     "name": "stdout",
     "output_type": "stream",
     "text": [
      "                 DateTime  BNBUSDT\n",
      "0 2024-05-13 04:01:00.005    588.6\n",
      "                 DateTime   BTCUSDT\n",
      "0 2024-05-13 04:01:00.006  61130.01\n",
      "                 DateTime  ETHUSDT\n",
      "0 2024-05-13 04:01:00.007  2887.55\n",
      "                 DateTime  ETHUSDT\n",
      "0 2024-05-13 04:01:02.143  2887.46\n",
      "                 DateTime   BTCUSDT\n",
      "0 2024-05-13 04:01:02.144  61130.01\n",
      "                 DateTime  BNBUSDT\n",
      "0 2024-05-13 04:01:02.145    588.6\n",
      "                 DateTime  BTCUSDT\n",
      "0 2024-05-13 04:01:04.145  61130.0\n",
      "                 DateTime  ETHUSDT\n",
      "0 2024-05-13 04:01:04.691  2887.45\n",
      "                 DateTime  BNBUSDT\n",
      "0 2024-05-13 04:01:04.940    588.5\n",
      "                 DateTime   BTCUSDT\n",
      "0 2024-05-13 04:01:06.951  61130.01\n",
      "                 DateTime  ETHUSDT\n",
      "0 2024-05-13 04:01:07.116  2887.46\n",
      "                 DateTime  BNBUSDT\n",
      "0 2024-05-13 04:01:07.389    588.6\n",
      "                 DateTime  BTCUSDT\n",
      "0 2024-05-13 04:01:08.961  61130.0\n",
      "                 DateTime  ETHUSDT\n",
      "0 2024-05-13 04:01:09.200  2887.26\n",
      "                 DateTime  BNBUSDT\n",
      "0 2024-05-13 04:01:10.144    588.6\n",
      "                 DateTime  BTCUSDT\n",
      "0 2024-05-13 04:01:11.069  61118.0\n",
      "                 DateTime  ETHUSDT\n",
      "0 2024-05-13 04:01:11.217  2886.92\n",
      "                 DateTime   BTCUSDT\n",
      "0 2024-05-13 04:01:13.081  61118.01\n",
      "                 DateTime  BNBUSDT\n",
      "0 2024-05-13 04:01:13.145    588.5\n",
      "                 DateTime  ETHUSDT\n",
      "0 2024-05-13 04:01:13.555  2887.25\n",
      "                 DateTime   BTCUSDT\n",
      "0 2024-05-13 04:01:15.149  61118.72\n",
      "                 DateTime  BNBUSDT\n",
      "0 2024-05-13 04:01:15.588    588.5\n"
     ]
    },
    {
     "data": {
      "text/plain": [
       "True"
      ]
     },
     "execution_count": 50,
     "metadata": {},
     "output_type": "execute_result"
    }
   ],
   "source": [
    "ws = websocket.WebSocketApp(socket, on_message=on_message)\n",
    "ws.run_forever()"
   ]
  },
  {
   "cell_type": "code",
   "execution_count": 27,
   "id": "5c4a6c04-7c86-4717-877a-aa84f571a746",
   "metadata": {},
   "outputs": [
    {
     "data": {
      "text/plain": [
       "{'stream': 'btcusdt@kline_1m',\n",
       " 'data': {'e': 'kline',\n",
       "  'E': 1715571966127,\n",
       "  's': 'BTCUSDT',\n",
       "  'k': {'t': 1715571960000,\n",
       "   'T': 1715572019999,\n",
       "   's': 'BTCUSDT',\n",
       "   'i': '1m',\n",
       "   'f': 3596855405,\n",
       "   'L': 3596855526,\n",
       "   'o': '60925.13000000',\n",
       "   'c': '60936.69000000',\n",
       "   'h': '60936.69000000',\n",
       "   'l': '60925.13000000',\n",
       "   'v': '1.30884000',\n",
       "   'n': 122,\n",
       "   'x': False,\n",
       "   'q': '79747.73958460',\n",
       "   'V': '1.18716000',\n",
       "   'Q': '72333.56007060',\n",
       "   'B': '0'}}}"
      ]
     },
     "execution_count": 27,
     "metadata": {},
     "output_type": "execute_result"
    }
   ],
   "source": [
    "source"
   ]
  },
  {
   "cell_type": "code",
   "execution_count": 45,
   "id": "7f4aa513-ae78-4672-bedc-80ff89b00309",
   "metadata": {},
   "outputs": [],
   "source": [
    "def manipulationn(source):\n",
    "    rel_data_closing = source['data']['k']['c']\n",
    "    event_time = pd.to_datetime(source['data']['E'], unit='ms')\n",
    "    df = pd.DataFrame(rel_data_closing, columns=[source['data']['s']], index=[event_time])\n",
    "    df.index.name = 'DateTime'\n",
    "    df = df.astype(float)\n",
    "    df = df.reset_index()\n",
    "    print(df)\n",
    "    return df"
   ]
  },
  {
   "cell_type": "code",
   "execution_count": 39,
   "id": "d7b09f1d-91ee-42f1-9c4a-0683da2308a9",
   "metadata": {},
   "outputs": [
    {
     "name": "stdout",
     "output_type": "stream",
     "text": [
      "                       DateTime   BTCUSDT\n",
      "0 1970-01-01 00:28:35.571966127  60936.69\n"
     ]
    },
    {
     "data": {
      "text/html": [
       "<div>\n",
       "<style scoped>\n",
       "    .dataframe tbody tr th:only-of-type {\n",
       "        vertical-align: middle;\n",
       "    }\n",
       "\n",
       "    .dataframe tbody tr th {\n",
       "        vertical-align: top;\n",
       "    }\n",
       "\n",
       "    .dataframe thead th {\n",
       "        text-align: right;\n",
       "    }\n",
       "</style>\n",
       "<table border=\"1\" class=\"dataframe\">\n",
       "  <thead>\n",
       "    <tr style=\"text-align: right;\">\n",
       "      <th></th>\n",
       "      <th>DateTime</th>\n",
       "      <th>BTCUSDT</th>\n",
       "    </tr>\n",
       "  </thead>\n",
       "  <tbody>\n",
       "    <tr>\n",
       "      <th>0</th>\n",
       "      <td>1970-01-01 00:28:35.571966127</td>\n",
       "      <td>60936.69</td>\n",
       "    </tr>\n",
       "  </tbody>\n",
       "</table>\n",
       "</div>"
      ],
      "text/plain": [
       "                       DateTime   BTCUSDT\n",
       "0 1970-01-01 00:28:35.571966127  60936.69"
      ]
     },
     "execution_count": 39,
     "metadata": {},
     "output_type": "execute_result"
    }
   ],
   "source": [
    "manipulationn(source)"
   ]
  },
  {
   "cell_type": "code",
   "execution_count": null,
   "id": "fa9a7843-e171-420e-bf17-66a28083a75a",
   "metadata": {},
   "outputs": [],
   "source": []
  }
 ],
 "metadata": {
  "kernelspec": {
   "display_name": "Python 3 (ipykernel)",
   "language": "python",
   "name": "python3"
  },
  "language_info": {
   "codemirror_mode": {
    "name": "ipython",
    "version": 3
   },
   "file_extension": ".py",
   "mimetype": "text/x-python",
   "name": "python",
   "nbconvert_exporter": "python",
   "pygments_lexer": "ipython3",
   "version": "3.9.13"
  }
 },
 "nbformat": 4,
 "nbformat_minor": 5
}

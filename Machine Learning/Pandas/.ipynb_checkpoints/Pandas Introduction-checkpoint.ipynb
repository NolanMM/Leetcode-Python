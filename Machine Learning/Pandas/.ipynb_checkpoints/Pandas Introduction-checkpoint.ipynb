{
 "cells": [
  {
   "cell_type": "markdown",
   "id": "bc25c106-af45-4ad7-a78c-d5341bbab8c6",
   "metadata": {},
   "source": [
    "# Pandas Introduction\n",
    "## 1. Series and Dataframes\n",
    "## 2. Conditional Filtering and Useful Methods\n",
    "## 3. Missing Data\n",
    "## 4. Group By Operations\n",
    "## 5. Combining Dataframes\n",
    "## 6. Text Methods and Time Methods\n",
    "## 7. Inputs and Outputs"
   ]
  }
 ],
 "metadata": {
  "kernelspec": {
   "display_name": "Python 3 (ipykernel)",
   "language": "python",
   "name": "python3"
  },
  "language_info": {
   "codemirror_mode": {
    "name": "ipython",
    "version": 3
   },
   "file_extension": ".py",
   "mimetype": "text/x-python",
   "name": "python",
   "nbconvert_exporter": "python",
   "pygments_lexer": "ipython3",
   "version": "3.9.13"
  }
 },
 "nbformat": 4,
 "nbformat_minor": 5
}

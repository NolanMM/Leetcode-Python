{
 "cells": [
  {
   "cell_type": "markdown",
   "id": "3b46dfa9-bd04-4318-a0d3-8cff4015ba74",
   "metadata": {},
   "source": [
    "# Array Operation - NolanM - 2024 - 17 - 05"
   ]
  },
  {
   "cell_type": "code",
   "execution_count": 1,
   "id": "c8610e23-4b5c-4784-a802-2c638dafa88d",
   "metadata": {},
   "outputs": [],
   "source": [
    "import numpy as np"
   ]
  },
  {
   "cell_type": "markdown",
   "id": "5d3b504f-8d62-4f85-926a-bc0e5c4f411d",
   "metadata": {
    "jp-MarkdownHeadingCollapsed": true
   },
   "source": [
    "## I. Create Sample Array"
   ]
  },
  {
   "cell_type": "code",
   "execution_count": 5,
   "id": "4d5d1a75-d66a-44cd-8901-9ffc914b432e",
   "metadata": {},
   "outputs": [
    {
     "data": {
      "text/plain": [
       "array([0, 1, 2, 3, 4, 5, 6, 7, 8, 9])"
      ]
     },
     "execution_count": 5,
     "metadata": {},
     "output_type": "execute_result"
    }
   ],
   "source": [
    "arr = np.arange(0,10)\n",
    "arr_2 = np.arange(0,15)\n",
    "arr"
   ]
  },
  {
   "cell_type": "markdown",
   "id": "534b5079-7264-41af-a198-54b7e8709036",
   "metadata": {
    "jp-MarkdownHeadingCollapsed": true
   },
   "source": [
    "## II. Basic Operation"
   ]
  },
  {
   "cell_type": "code",
   "execution_count": 3,
   "id": "842974b1-4845-4502-a3fd-b252aa5db487",
   "metadata": {},
   "outputs": [
    {
     "data": {
      "text/plain": [
       "array([ 5,  6,  7,  8,  9, 10, 11, 12, 13, 14])"
      ]
     },
     "execution_count": 3,
     "metadata": {},
     "output_type": "execute_result"
    }
   ],
   "source": [
    "arr + 5"
   ]
  },
  {
   "cell_type": "code",
   "execution_count": 4,
   "id": "4c7eeb52-577b-4121-b602-7b6acb6ec096",
   "metadata": {},
   "outputs": [
    {
     "data": {
      "text/plain": [
       "array([-2, -1,  0,  1,  2,  3,  4,  5,  6,  7])"
      ]
     },
     "execution_count": 4,
     "metadata": {},
     "output_type": "execute_result"
    }
   ],
   "source": [
    "arr - 2"
   ]
  },
  {
   "cell_type": "markdown",
   "id": "9a1fec72-e51d-404c-8176-a82b7a7567b9",
   "metadata": {},
   "source": [
    "## III. Operations with multiple arrays (same dimensions to work) - Broadcasting"
   ]
  },
  {
   "cell_type": "code",
   "execution_count": 7,
   "id": "553ed662-e0a6-4eb7-b203-c6e736225e5d",
   "metadata": {},
   "outputs": [
    {
     "name": "stdout",
     "output_type": "stream",
     "text": [
      "First Array shape: (10,)\n",
      "Second Array shape: (15,)\n"
     ]
    },
    {
     "ename": "ValueError",
     "evalue": "operands could not be broadcast together with shapes (10,) (15,) ",
     "output_type": "error",
     "traceback": [
      "\u001b[1;31m---------------------------------------------------------------------------\u001b[0m",
      "\u001b[1;31mValueError\u001b[0m                                Traceback (most recent call last)",
      "Cell \u001b[1;32mIn[7], line 4\u001b[0m\n\u001b[0;32m      1\u001b[0m \u001b[38;5;28mprint\u001b[39m(\u001b[38;5;124mf\u001b[39m\u001b[38;5;124m\"\u001b[39m\u001b[38;5;124mFirst Array shape: \u001b[39m\u001b[38;5;132;01m{\u001b[39;00marr\u001b[38;5;241m.\u001b[39mshape\u001b[38;5;132;01m}\u001b[39;00m\u001b[38;5;124m\"\u001b[39m)\n\u001b[0;32m      2\u001b[0m \u001b[38;5;28mprint\u001b[39m(\u001b[38;5;124mf\u001b[39m\u001b[38;5;124m\"\u001b[39m\u001b[38;5;124mSecond Array shape: \u001b[39m\u001b[38;5;132;01m{\u001b[39;00marr_2\u001b[38;5;241m.\u001b[39mshape\u001b[38;5;132;01m}\u001b[39;00m\u001b[38;5;124m\"\u001b[39m)\n\u001b[1;32m----> 4\u001b[0m \u001b[43marr\u001b[49m\u001b[43m \u001b[49m\u001b[38;5;241;43m+\u001b[39;49m\u001b[43m \u001b[49m\u001b[43marr_2\u001b[49m\n",
      "\u001b[1;31mValueError\u001b[0m: operands could not be broadcast together with shapes (10,) (15,) "
     ]
    }
   ],
   "source": [
    "print(f\"First Array shape: {arr.shape}\")\n",
    "print(f\"Second Array shape: {arr_2.shape}\")\n",
    "\n",
    "arr + arr_2"
   ]
  },
  {
   "cell_type": "code",
   "execution_count": 8,
   "id": "c9eb21ae-1b18-4662-8261-4a6ebd932c29",
   "metadata": {},
   "outputs": [
    {
     "name": "stdout",
     "output_type": "stream",
     "text": [
      "Array 3: [10 11 12 13 14 15 16 17 18 19]\n"
     ]
    },
    {
     "data": {
      "text/plain": [
       "array([10, 12, 14, 16, 18, 20, 22, 24, 26, 28])"
      ]
     },
     "execution_count": 8,
     "metadata": {},
     "output_type": "execute_result"
    }
   ],
   "source": [
    "arr_3 = np.arange(10,20)\n",
    "print(f\"Array 3: {arr_3}\")\n",
    "arr + arr_3"
   ]
  },
  {
   "cell_type": "markdown",
   "id": "51ff4864-5f19-43b2-a669-0d8a9ef001cb",
   "metadata": {},
   "source": [
    "### *Note*: Special case when you do 0/0 Numpy will return .nan value instead of error but if anything else / 0 -> Infinity"
   ]
  },
  {
   "cell_type": "code",
   "execution_count": 13,
   "id": "5bbb16b2-87f6-4c15-a8c9-dda29d5c4bf2",
   "metadata": {},
   "outputs": [
    {
     "data": {
      "text/plain": [
       "array([0, 0, 0, 0, 0, 0, 0, 0, 0, 0])"
      ]
     },
     "execution_count": 13,
     "metadata": {},
     "output_type": "execute_result"
    }
   ],
   "source": [
    "arr_zeros = arr - arr\n",
    "arr_zeros"
   ]
  },
  {
   "cell_type": "code",
   "execution_count": 14,
   "id": "e490b934-f184-47d5-ac14-85e0476d9a08",
   "metadata": {},
   "outputs": [
    {
     "name": "stderr",
     "output_type": "stream",
     "text": [
      "C:\\Users\\NolanM\\AppData\\Local\\Temp\\ipykernel_23744\\1572810211.py:1: RuntimeWarning: invalid value encountered in divide\n",
      "  arr_zeros/arr\n"
     ]
    },
    {
     "data": {
      "text/plain": [
       "array([nan,  0.,  0.,  0.,  0.,  0.,  0.,  0.,  0.,  0.])"
      ]
     },
     "execution_count": 14,
     "metadata": {},
     "output_type": "execute_result"
    }
   ],
   "source": [
    "arr_zeros/arr"
   ]
  },
  {
   "cell_type": "code",
   "execution_count": 15,
   "id": "580240c9-7c53-4324-ac45-557b080db102",
   "metadata": {},
   "outputs": [
    {
     "name": "stdout",
     "output_type": "stream",
     "text": [
      "Index 8: 8\n"
     ]
    },
    {
     "name": "stderr",
     "output_type": "stream",
     "text": [
      "C:\\Users\\NolanM\\AppData\\Local\\Temp\\ipykernel_23744\\3759688727.py:2: RuntimeWarning: divide by zero encountered in divide\n",
      "  arr[8] / arr_zeros\n"
     ]
    },
    {
     "data": {
      "text/plain": [
       "array([inf, inf, inf, inf, inf, inf, inf, inf, inf, inf])"
      ]
     },
     "execution_count": 15,
     "metadata": {},
     "output_type": "execute_result"
    }
   ],
   "source": [
    "print(f\"Index 8: {arr[8]}\")\n",
    "arr[8] / arr_zeros"
   ]
  },
  {
   "cell_type": "code",
   "execution_count": 18,
   "id": "e81e2d97-b55b-47bd-acb4-42e0b310581b",
   "metadata": {},
   "outputs": [
    {
     "ename": "ZeroDivisionError",
     "evalue": "division by zero",
     "output_type": "error",
     "traceback": [
      "\u001b[1;31m---------------------------------------------------------------------------\u001b[0m",
      "\u001b[1;31mZeroDivisionError\u001b[0m                         Traceback (most recent call last)",
      "Cell \u001b[1;32mIn[18], line 1\u001b[0m\n\u001b[1;32m----> 1\u001b[0m \u001b[38;5;241;43m1\u001b[39;49m\u001b[43m \u001b[49m\u001b[38;5;241;43m/\u001b[39;49m\u001b[43m \u001b[49m\u001b[38;5;241;43m0\u001b[39;49m \n",
      "\u001b[1;31mZeroDivisionError\u001b[0m: division by zero"
     ]
    }
   ],
   "source": [
    "1 / 0 "
   ]
  },
  {
   "cell_type": "code",
   "execution_count": 20,
   "id": "f2702137-b413-407e-a9c9-76c1ac655d62",
   "metadata": {},
   "outputs": [
    {
     "name": "stderr",
     "output_type": "stream",
     "text": [
      "C:\\Users\\NolanM\\AppData\\Local\\Temp\\ipykernel_23744\\1412832069.py:1: RuntimeWarning: divide by zero encountered in divide\n",
      "  8 / arr\n"
     ]
    },
    {
     "data": {
      "text/plain": [
       "array([       inf, 8.        , 4.        , 2.66666667, 2.        ,\n",
       "       1.6       , 1.33333333, 1.14285714, 1.        , 0.88888889])"
      ]
     },
     "execution_count": 20,
     "metadata": {},
     "output_type": "execute_result"
    }
   ],
   "source": [
    "8 / arr"
   ]
  },
  {
   "cell_type": "markdown",
   "id": "1163d4df-466d-4d02-99ce-af8cd4a25ca6",
   "metadata": {},
   "source": [
    "## IV. Operation Methods"
   ]
  },
  {
   "cell_type": "code",
   "execution_count": 21,
   "id": "2378173d-19e0-49cf-959a-d515d0a1b56f",
   "metadata": {},
   "outputs": [
    {
     "data": {
      "text/plain": [
       "array([0.        , 1.        , 1.41421356, 1.73205081, 2.        ,\n",
       "       2.23606798, 2.44948974, 2.64575131, 2.82842712, 3.        ])"
      ]
     },
     "execution_count": 21,
     "metadata": {},
     "output_type": "execute_result"
    }
   ],
   "source": [
    "np.sqrt(arr)"
   ]
  },
  {
   "cell_type": "code",
   "execution_count": 22,
   "id": "4f056b11-48ce-41b3-b7d3-c1da461a4de0",
   "metadata": {},
   "outputs": [
    {
     "data": {
      "text/plain": [
       "array([ 0.        ,  0.84147098,  0.90929743,  0.14112001, -0.7568025 ,\n",
       "       -0.95892427, -0.2794155 ,  0.6569866 ,  0.98935825,  0.41211849])"
      ]
     },
     "execution_count": 22,
     "metadata": {},
     "output_type": "execute_result"
    }
   ],
   "source": [
    "np.sin(arr)"
   ]
  },
  {
   "cell_type": "code",
   "execution_count": 23,
   "id": "ad446a03-22b4-4718-afe0-a8364ecf0895",
   "metadata": {},
   "outputs": [
    {
     "name": "stderr",
     "output_type": "stream",
     "text": [
      "C:\\Users\\NolanM\\AppData\\Local\\Temp\\ipykernel_23744\\3120950136.py:1: RuntimeWarning: divide by zero encountered in log\n",
      "  np.log(arr)\n"
     ]
    },
    {
     "data": {
      "text/plain": [
       "array([      -inf, 0.        , 0.69314718, 1.09861229, 1.38629436,\n",
       "       1.60943791, 1.79175947, 1.94591015, 2.07944154, 2.19722458])"
      ]
     },
     "execution_count": 23,
     "metadata": {},
     "output_type": "execute_result"
    }
   ],
   "source": [
    "np.log(arr)"
   ]
  },
  {
   "cell_type": "code",
   "execution_count": 24,
   "id": "cb425df6-3042-4ed2-a2b5-ddf5f9704e70",
   "metadata": {},
   "outputs": [
    {
     "data": {
      "text/plain": [
       "array([0, 1, 2, 3, 4, 5, 6, 7, 8, 9])"
      ]
     },
     "execution_count": 24,
     "metadata": {},
     "output_type": "execute_result"
    }
   ],
   "source": [
    "arr"
   ]
  },
  {
   "cell_type": "code",
   "execution_count": 25,
   "id": "572acdd1-a8fd-4f17-bb31-e3bf73e6d9ce",
   "metadata": {},
   "outputs": [
    {
     "data": {
      "text/plain": [
       "45"
      ]
     },
     "execution_count": 25,
     "metadata": {},
     "output_type": "execute_result"
    }
   ],
   "source": [
    "arr.sum()"
   ]
  },
  {
   "cell_type": "code",
   "execution_count": 26,
   "id": "3a980716-34e1-4ed1-9c25-c61f32823b41",
   "metadata": {},
   "outputs": [
    {
     "data": {
      "text/plain": [
       "4.5"
      ]
     },
     "execution_count": 26,
     "metadata": {},
     "output_type": "execute_result"
    }
   ],
   "source": [
    "arr.mean()"
   ]
  },
  {
   "cell_type": "code",
   "execution_count": 27,
   "id": "abf9504c-e098-498f-b6ad-27dd280b9918",
   "metadata": {},
   "outputs": [
    {
     "data": {
      "text/plain": [
       "9"
      ]
     },
     "execution_count": 27,
     "metadata": {},
     "output_type": "execute_result"
    }
   ],
   "source": [
    "arr.max()"
   ]
  },
  {
   "cell_type": "code",
   "execution_count": 28,
   "id": "b7dc1d18-c1e6-449b-a023-03fa3d51074b",
   "metadata": {},
   "outputs": [
    {
     "data": {
      "text/plain": [
       "8.25"
      ]
     },
     "execution_count": 28,
     "metadata": {},
     "output_type": "execute_result"
    }
   ],
   "source": [
    "arr.var() # Calculate variation"
   ]
  },
  {
   "cell_type": "code",
   "execution_count": 29,
   "id": "3b68844e-a473-4cfa-9abf-e6433f55c698",
   "metadata": {},
   "outputs": [
    {
     "data": {
      "text/plain": [
       "2.8722813232690143"
      ]
     },
     "execution_count": 29,
     "metadata": {},
     "output_type": "execute_result"
    }
   ],
   "source": [
    "arr.std()"
   ]
  },
  {
   "cell_type": "code",
   "execution_count": 34,
   "id": "26f4a9b6-f44e-48ba-a4dc-26a139d4ddd4",
   "metadata": {},
   "outputs": [
    {
     "name": "stdout",
     "output_type": "stream",
     "text": [
      "Array 2D:\n",
      " [[ 0  1  2  3  4]\n",
      " [ 5  6  7  8  9]\n",
      " [10 11 12 13 14]\n",
      " [15 16 17 18 19]\n",
      " [20 21 22 23 24]]\n"
     ]
    }
   ],
   "source": [
    "array_2d = np.arange(0,25).reshape(5,5)\n",
    "array_2d\n",
    "print(f\"Array 2D:\\n {array_2d}\")"
   ]
  },
  {
   "cell_type": "code",
   "execution_count": 35,
   "id": "1b0072fb-b3b0-4e14-a287-467782e58386",
   "metadata": {},
   "outputs": [
    {
     "data": {
      "text/plain": [
       "(5, 5)"
      ]
     },
     "execution_count": 35,
     "metadata": {},
     "output_type": "execute_result"
    }
   ],
   "source": [
    "array_2d.shape"
   ]
  },
  {
   "cell_type": "code",
   "execution_count": 37,
   "id": "e78aa215-a9ee-4f9e-8365-0450e67d73d2",
   "metadata": {},
   "outputs": [
    {
     "data": {
      "text/plain": [
       "array([50, 55, 60, 65, 70])"
      ]
     },
     "execution_count": 37,
     "metadata": {},
     "output_type": "execute_result"
    }
   ],
   "source": [
    "array_2d.sum(axis=0)   #Sum all the columns"
   ]
  },
  {
   "cell_type": "code",
   "execution_count": 38,
   "id": "934e6b0e-3f2c-4ae0-b436-ce4816fa0d34",
   "metadata": {},
   "outputs": [
    {
     "data": {
      "text/plain": [
       "array([ 10,  35,  60,  85, 110])"
      ]
     },
     "execution_count": 38,
     "metadata": {},
     "output_type": "execute_result"
    }
   ],
   "source": [
    "array_2d.sum(axis=1)   #Sum all the rows"
   ]
  },
  {
   "cell_type": "code",
   "execution_count": null,
   "id": "d6ad7fb0-9ab2-49be-b308-c97b4259fd3e",
   "metadata": {},
   "outputs": [],
   "source": []
  }
 ],
 "metadata": {
  "kernelspec": {
   "display_name": "Python 3 (ipykernel)",
   "language": "python",
   "name": "python3"
  },
  "language_info": {
   "codemirror_mode": {
    "name": "ipython",
    "version": 3
   },
   "file_extension": ".py",
   "mimetype": "text/x-python",
   "name": "python",
   "nbconvert_exporter": "python",
   "pygments_lexer": "ipython3",
   "version": "3.9.13"
  }
 },
 "nbformat": 4,
 "nbformat_minor": 5
}

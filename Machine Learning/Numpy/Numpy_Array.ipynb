{
 "cells": [
  {
   "cell_type": "markdown",
   "id": "e6a3ff81-1acf-46c5-9f56-71a3c64f7169",
   "metadata": {},
   "source": [
    "## Numpy Array"
   ]
  },
  {
   "cell_type": "code",
   "execution_count": 1,
   "id": "aa38ae88-aef4-448d-bd05-19c9828a6f62",
   "metadata": {},
   "outputs": [],
   "source": [
    "import numpy as np"
   ]
  },
  {
   "cell_type": "markdown",
   "id": "556651ec-2875-4d1f-bc9b-7b451f3594a6",
   "metadata": {},
   "source": [
    "### Convert List into numpy array"
   ]
  },
  {
   "cell_type": "code",
   "execution_count": 2,
   "id": "2136bd55-9962-4f22-89a6-640a00fda25e",
   "metadata": {},
   "outputs": [],
   "source": [
    "mylist = [1,2,3]"
   ]
  },
  {
   "cell_type": "code",
   "execution_count": 3,
   "id": "6f5f2b12-8f2f-4ad8-a253-4edaed67d61b",
   "metadata": {},
   "outputs": [],
   "source": [
    "numpy_array = np.array(mylist)"
   ]
  },
  {
   "cell_type": "markdown",
   "id": "8d112b9a-a71c-44b3-b149-24c29d7f4aa3",
   "metadata": {},
   "source": [
    "### Convert Matrix into numpy array"
   ]
  },
  {
   "cell_type": "code",
   "execution_count": 4,
   "id": "6901b885-9679-41c1-9bab-5cd02a4e36f0",
   "metadata": {},
   "outputs": [],
   "source": [
    "myMatrix = [[1,2,3],[4,5,6],[7,8,9]]"
   ]
  },
  {
   "cell_type": "code",
   "execution_count": 5,
   "id": "ae12823a-0496-4394-82a7-b79e408deb3e",
   "metadata": {},
   "outputs": [
    {
     "name": "stdout",
     "output_type": "stream",
     "text": [
      "[[1 2 3]\n",
      " [4 5 6]\n",
      " [7 8 9]]\n"
     ]
    }
   ],
   "source": [
    "matrix_numpy = np.array(myMatrix)\n",
    "print(matrix_numpy)"
   ]
  },
  {
   "cell_type": "markdown",
   "id": "463f138f-5478-4d66-b23b-943cb7d1ad00",
   "metadata": {},
   "source": [
    "### Create numpy array by arange"
   ]
  },
  {
   "cell_type": "code",
   "execution_count": 6,
   "id": "aaedc990-0919-4c1e-9892-52f5c6d03f58",
   "metadata": {},
   "outputs": [
    {
     "data": {
      "text/plain": [
       "array([  0,  20,  40,  60,  80, 100])"
      ]
     },
     "execution_count": 6,
     "metadata": {},
     "output_type": "execute_result"
    }
   ],
   "source": [
    "np.arange(0,101,20)"
   ]
  },
  {
   "cell_type": "code",
   "execution_count": 7,
   "id": "d65f74d7-d891-449d-af59-eec7da4b2feb",
   "metadata": {},
   "outputs": [
    {
     "data": {
      "text/plain": [
       "array([0., 0., 0., 0., 0., 0.])"
      ]
     },
     "execution_count": 7,
     "metadata": {},
     "output_type": "execute_result"
    }
   ],
   "source": [
    "np.zeros(6)"
   ]
  },
  {
   "cell_type": "code",
   "execution_count": 8,
   "id": "1328aa81-a60b-4250-adbb-1995efba48c4",
   "metadata": {},
   "outputs": [
    {
     "data": {
      "text/plain": [
       "array([[0., 0., 0., 0., 0.],\n",
       "       [0., 0., 0., 0., 0.],\n",
       "       [0., 0., 0., 0., 0.],\n",
       "       [0., 0., 0., 0., 0.],\n",
       "       [0., 0., 0., 0., 0.]])"
      ]
     },
     "execution_count": 8,
     "metadata": {},
     "output_type": "execute_result"
    }
   ],
   "source": [
    "np.zeros((5,5))"
   ]
  },
  {
   "cell_type": "markdown",
   "id": "70c264c6-efbf-43b7-a71c-756a22873587",
   "metadata": {},
   "source": [
    "### Create 2 rows 5 columns"
   ]
  },
  {
   "cell_type": "code",
   "execution_count": 9,
   "id": "e468204c-c0aa-4a03-98b4-4e52a453a610",
   "metadata": {},
   "outputs": [
    {
     "data": {
      "text/plain": [
       "array([[0., 0., 0., 0., 0.],\n",
       "       [0., 0., 0., 0., 0.]])"
      ]
     },
     "execution_count": 9,
     "metadata": {},
     "output_type": "execute_result"
    }
   ],
   "source": [
    "np.zeros((2,5))"
   ]
  },
  {
   "cell_type": "code",
   "execution_count": 10,
   "id": "b919dd88-fd82-45c5-a2ed-49e879d8dfd5",
   "metadata": {},
   "outputs": [
    {
     "data": {
      "text/plain": [
       "array([[1., 1., 1., 1.],\n",
       "       [1., 1., 1., 1.],\n",
       "       [1., 1., 1., 1.],\n",
       "       [1., 1., 1., 1.],\n",
       "       [1., 1., 1., 1.]])"
      ]
     },
     "execution_count": 10,
     "metadata": {},
     "output_type": "execute_result"
    }
   ],
   "source": [
    "np.ones((5,4))"
   ]
  },
  {
   "cell_type": "code",
   "execution_count": 11,
   "id": "3786fa11-4a33-4436-9a19-0055a94929c5",
   "metadata": {},
   "outputs": [
    {
     "data": {
      "text/plain": [
       "array([1., 1., 1., 1., 1.])"
      ]
     },
     "execution_count": 11,
     "metadata": {},
     "output_type": "execute_result"
    }
   ],
   "source": [
    "np.ones(5)"
   ]
  },
  {
   "cell_type": "code",
   "execution_count": 12,
   "id": "9b396713-c781-462a-9870-b35a27e5d5c5",
   "metadata": {},
   "outputs": [
    {
     "data": {
      "text/plain": [
       "array([ 0. ,  2.5,  5. ,  7.5, 10. ])"
      ]
     },
     "execution_count": 12,
     "metadata": {},
     "output_type": "execute_result"
    }
   ],
   "source": [
    "np.linspace(0, 10, 5)"
   ]
  },
  {
   "cell_type": "code",
   "execution_count": 13,
   "id": "756b2ead-d8d4-450a-af4f-7c854a72460a",
   "metadata": {},
   "outputs": [
    {
     "data": {
      "text/plain": [
       "array([ 2.,  4.,  6.,  8., 10.])"
      ]
     },
     "execution_count": 13,
     "metadata": {},
     "output_type": "execute_result"
    }
   ],
   "source": [
    "np.linspace(2, 10, 5)"
   ]
  },
  {
   "cell_type": "code",
   "execution_count": 14,
   "id": "1947584c-7d41-4e32-9d2f-e90afa2ac8ef",
   "metadata": {},
   "outputs": [
    {
     "data": {
      "text/plain": [
       "array([ 0.,  1.,  2.,  3.,  4.,  5.,  6.,  7.,  8.,  9., 10.])"
      ]
     },
     "execution_count": 14,
     "metadata": {},
     "output_type": "execute_result"
    }
   ],
   "source": [
    "np.linspace(0, 10, 11)"
   ]
  },
  {
   "cell_type": "code",
   "execution_count": 15,
   "id": "4ddf3b3b-b040-4c1b-bc96-1a0b7b6019ca",
   "metadata": {},
   "outputs": [
    {
     "data": {
      "text/plain": [
       "array([[1., 0., 0., 0., 0.],\n",
       "       [0., 1., 0., 0., 0.],\n",
       "       [0., 0., 1., 0., 0.],\n",
       "       [0., 0., 0., 1., 0.],\n",
       "       [0., 0., 0., 0., 1.]])"
      ]
     },
     "execution_count": 15,
     "metadata": {},
     "output_type": "execute_result"
    }
   ],
   "source": [
    "np.eye(5)"
   ]
  },
  {
   "cell_type": "code",
   "execution_count": 16,
   "id": "9ea72168-bada-46bd-9af6-870797aa9738",
   "metadata": {},
   "outputs": [
    {
     "data": {
      "text/plain": [
       "array([[1., 0., 0., 0., 0., 0., 0.],\n",
       "       [0., 1., 0., 0., 0., 0., 0.],\n",
       "       [0., 0., 1., 0., 0., 0., 0.],\n",
       "       [0., 0., 0., 1., 0., 0., 0.],\n",
       "       [0., 0., 0., 0., 1., 0., 0.],\n",
       "       [0., 0., 0., 0., 0., 1., 0.],\n",
       "       [0., 0., 0., 0., 0., 0., 1.]])"
      ]
     },
     "execution_count": 16,
     "metadata": {},
     "output_type": "execute_result"
    }
   ],
   "source": [
    "np.eye(7)"
   ]
  },
  {
   "cell_type": "code",
   "execution_count": 17,
   "id": "a18494df-b350-4af4-a829-1874323b742c",
   "metadata": {},
   "outputs": [
    {
     "data": {
      "text/plain": [
       "array([0.11788785])"
      ]
     },
     "execution_count": 17,
     "metadata": {},
     "output_type": "execute_result"
    }
   ],
   "source": [
    "np.random.rand(1)"
   ]
  },
  {
   "cell_type": "code",
   "execution_count": 18,
   "id": "4cbb3dd6-d842-4122-a653-c18f9649d23a",
   "metadata": {},
   "outputs": [
    {
     "data": {
      "text/plain": [
       "array([[0.21601058, 0.34701092, 0.25051525],\n",
       "       [0.2379662 , 0.60805636, 0.9843368 ]])"
      ]
     },
     "execution_count": 18,
     "metadata": {},
     "output_type": "execute_result"
    }
   ],
   "source": [
    "np.random.rand(2,3)"
   ]
  },
  {
   "cell_type": "markdown",
   "id": "c6af1464-64e6-4d17-aac7-9986c2179a0e",
   "metadata": {},
   "source": [
    "### Return a sample (or samples) from the \"standard normal\" distribution. (randn)\n",
    "with mean = 0 and variance = 1\n",
    "\n",
    "### Parameters\n",
    "----------\n",
    "- low : int or array-like of ints\n",
    "    Lowest (signed) integers to be drawn from the distribution (unless\n",
    "    ``high=None``, in which case this parameter is one above the\n",
    "    *highest* such integer).\n",
    "- high : int or array-like of ints, optional\n",
    "    If provided, one above the largest (signed) integer to be drawn\n",
    "    from the distribution (see above for behavior if ``high=None``).\n",
    "    If array-like, must contain integer values\n",
    "- size : int or tuple of ints, optional\n",
    "    Output shape.  If the given shape is, e.g., ``(m, n, k)``, then\n",
    "    ``m * n * k`` samples are drawn.  Default is None, in which case a\n",
    "    single value is returned.\n",
    "- dtype : dtype, optional\n",
    "    Desired dtype of the result. Byteorder must be native.\n",
    "    The default value is int."
   ]
  },
  {
   "cell_type": "code",
   "execution_count": 19,
   "id": "3dcc2554-5554-4032-b813-a5b2ecb882e5",
   "metadata": {},
   "outputs": [
    {
     "data": {
      "text/plain": [
       "array([[ 0.88268303, -0.8451509 ,  0.71840375],\n",
       "       [-0.62846845,  0.90514915, -0.86431921]])"
      ]
     },
     "execution_count": 19,
     "metadata": {},
     "output_type": "execute_result"
    }
   ],
   "source": [
    "np.random.randn(2,3)"
   ]
  },
  {
   "cell_type": "code",
   "execution_count": 20,
   "id": "463aae7f-5a36-49eb-a5a4-105a4c6b59f6",
   "metadata": {},
   "outputs": [
    {
     "data": {
      "text/plain": [
       "array([-0.42182976, -0.75397407,  1.58377635, -0.16449303,  0.20168508,\n",
       "       -2.23216754,  0.37163253,  1.18656265,  0.33267234,  0.45003688,\n",
       "       -0.32846191, -1.5917027 , -0.53530063, -0.47075284, -1.4574158 ,\n",
       "        0.16617431, -0.18322476, -0.95241428,  0.22921747,  0.54843759,\n",
       "        1.07959274,  0.35569373, -0.38931958])"
      ]
     },
     "execution_count": 20,
     "metadata": {},
     "output_type": "execute_result"
    }
   ],
   "source": [
    "np.random.randn(23)"
   ]
  },
  {
   "cell_type": "code",
   "execution_count": 26,
   "id": "a2b36c89-1ea7-4718-9e70-336523a79c4a",
   "metadata": {},
   "outputs": [
    {
     "data": {
      "text/plain": [
       "8"
      ]
     },
     "execution_count": 26,
     "metadata": {},
     "output_type": "execute_result"
    }
   ],
   "source": [
    "np.random.randint(1,10)"
   ]
  },
  {
   "cell_type": "code",
   "execution_count": 28,
   "id": "8d427e12-358d-499c-bd1b-1cc7dc9e6087",
   "metadata": {},
   "outputs": [
    {
     "data": {
      "text/plain": [
       "array([6, 3, 3, 4, 3])"
      ]
     },
     "execution_count": 28,
     "metadata": {},
     "output_type": "execute_result"
    }
   ],
   "source": [
    "np.random.randint(1,10, 5)"
   ]
  },
  {
   "cell_type": "code",
   "execution_count": 30,
   "id": "01a00226-4d7d-4aa4-9b61-d9a2aba8651c",
   "metadata": {},
   "outputs": [
    {
     "data": {
      "text/plain": [
       "array([0.04872488, 0.28910966, 0.72096635, 0.02161625])"
      ]
     },
     "execution_count": 30,
     "metadata": {},
     "output_type": "execute_result"
    }
   ],
   "source": [
    "np.random.seed(21)\n",
    "np.random.rand(4)"
   ]
  },
  {
   "cell_type": "markdown",
   "id": "e588d644-cdaa-49bd-b95d-336ce46615dc",
   "metadata": {},
   "source": [
    "### Same seed and rand return same result"
   ]
  },
  {
   "cell_type": "code",
   "execution_count": 31,
   "id": "2f3313d8-08c1-4516-8a5a-c663a4204a57",
   "metadata": {},
   "outputs": [
    {
     "data": {
      "text/plain": [
       "array([0.04872488, 0.28910966, 0.72096635, 0.02161625])"
      ]
     },
     "execution_count": 31,
     "metadata": {},
     "output_type": "execute_result"
    }
   ],
   "source": [
    "np.random.seed(21)\n",
    "np.random.rand(4)"
   ]
  },
  {
   "cell_type": "code",
   "execution_count": 33,
   "id": "3f5a5293-98b2-4e67-9efe-7b600f47b1bc",
   "metadata": {},
   "outputs": [
    {
     "data": {
      "text/plain": [
       "array([ 0,  1,  2,  3,  4,  5,  6,  7,  8,  9, 10, 11, 12, 13, 14, 15, 16,\n",
       "       17, 18, 19, 20, 21, 22, 23, 24])"
      ]
     },
     "execution_count": 33,
     "metadata": {},
     "output_type": "execute_result"
    }
   ],
   "source": [
    "arr = np.arange(0,25)\n",
    "arr"
   ]
  },
  {
   "cell_type": "code",
   "execution_count": 34,
   "id": "44ec036e-36c4-4608-b118-666dc9380a4a",
   "metadata": {},
   "outputs": [
    {
     "data": {
      "text/plain": [
       "array([[ 0,  1,  2,  3,  4],\n",
       "       [ 5,  6,  7,  8,  9],\n",
       "       [10, 11, 12, 13, 14],\n",
       "       [15, 16, 17, 18, 19],\n",
       "       [20, 21, 22, 23, 24]])"
      ]
     },
     "execution_count": 34,
     "metadata": {},
     "output_type": "execute_result"
    }
   ],
   "source": [
    "arr.reshape(5,5)"
   ]
  },
  {
   "cell_type": "code",
   "execution_count": 44,
   "id": "f05285fc-b755-4265-bbf8-c69d06fbb85b",
   "metadata": {},
   "outputs": [
    {
     "data": {
      "text/plain": [
       "array([59, 20, 76, 56, 41,  5, 18, 70, 50, 56, 98, 48, 53,  5, 80, 35, 91,\n",
       "       33, 12, 82, 15,  6, 84, 90, 28])"
      ]
     },
     "execution_count": 44,
     "metadata": {},
     "output_type": "execute_result"
    }
   ],
   "source": [
    "ran_arr = np.random.randint(0,101,25)\n",
    "ran_arr"
   ]
  },
  {
   "cell_type": "code",
   "execution_count": 45,
   "id": "3127c0be-0fbd-456e-8c2a-b928156f0a70",
   "metadata": {},
   "outputs": [
    {
     "name": "stdout",
     "output_type": "stream",
     "text": [
      "98\n",
      "5\n",
      "10\n",
      "5\n",
      "int32\n"
     ]
    }
   ],
   "source": [
    "print(ran_arr.max())\n",
    "print(ran_arr.min())\n",
    "print(ran_arr.argmax()) # index of maximum value in the list\n",
    "print(ran_arr.argmin())\n",
    "print(ran_arr.dtype)"
   ]
  },
  {
   "cell_type": "code",
   "execution_count": 46,
   "id": "1ee53fd6-b716-4119-a882-7a9f06e88142",
   "metadata": {},
   "outputs": [
    {
     "data": {
      "text/plain": [
       "(25,)"
      ]
     },
     "execution_count": 46,
     "metadata": {},
     "output_type": "execute_result"
    }
   ],
   "source": [
    "ran_arr.shape"
   ]
  },
  {
   "cell_type": "code",
   "execution_count": 47,
   "id": "66c504a5-6b28-4acd-a071-470b723f139e",
   "metadata": {},
   "outputs": [
    {
     "data": {
      "text/plain": [
       "array([[59, 20, 76, 56, 41],\n",
       "       [ 5, 18, 70, 50, 56],\n",
       "       [98, 48, 53,  5, 80],\n",
       "       [35, 91, 33, 12, 82],\n",
       "       [15,  6, 84, 90, 28]])"
      ]
     },
     "execution_count": 47,
     "metadata": {},
     "output_type": "execute_result"
    }
   ],
   "source": [
    "ran_arr = ran_arr.reshape(5,5)\n",
    "ran_arr"
   ]
  },
  {
   "cell_type": "code",
   "execution_count": 48,
   "id": "d2ae21ab-ff20-4a3b-83fb-df25f7f69498",
   "metadata": {},
   "outputs": [
    {
     "data": {
      "text/plain": [
       "(5, 5)"
      ]
     },
     "execution_count": 48,
     "metadata": {},
     "output_type": "execute_result"
    }
   ],
   "source": [
    "ran_arr.shape"
   ]
  },
  {
   "cell_type": "code",
   "execution_count": 49,
   "id": "8bb61bf1-86c4-4820-84be-7110395b12ab",
   "metadata": {},
   "outputs": [
    {
     "data": {
      "text/plain": [
       "array([[59],\n",
       "       [20],\n",
       "       [76],\n",
       "       [56],\n",
       "       [41],\n",
       "       [ 5],\n",
       "       [18],\n",
       "       [70],\n",
       "       [50],\n",
       "       [56],\n",
       "       [98],\n",
       "       [48],\n",
       "       [53],\n",
       "       [ 5],\n",
       "       [80],\n",
       "       [35],\n",
       "       [91],\n",
       "       [33],\n",
       "       [12],\n",
       "       [82],\n",
       "       [15],\n",
       "       [ 6],\n",
       "       [84],\n",
       "       [90],\n",
       "       [28]])"
      ]
     },
     "execution_count": 49,
     "metadata": {},
     "output_type": "execute_result"
    }
   ],
   "source": [
    "ran_arr = ran_arr.reshape(25,1)\n",
    "ran_arr"
   ]
  },
  {
   "cell_type": "code",
   "execution_count": 50,
   "id": "e0ccbbb6-8bc5-448a-a331-28058263e276",
   "metadata": {},
   "outputs": [
    {
     "data": {
      "text/plain": [
       "array([[59, 20, 76, 56, 41,  5, 18, 70, 50, 56, 98, 48, 53,  5, 80, 35,\n",
       "        91, 33, 12, 82, 15,  6, 84, 90, 28]])"
      ]
     },
     "execution_count": 50,
     "metadata": {},
     "output_type": "execute_result"
    }
   ],
   "source": [
    "ran_arr = ran_arr.reshape(1,25)\n",
    "ran_arr"
   ]
  },
  {
   "cell_type": "code",
   "execution_count": null,
   "id": "5e74b854-a1b6-45c1-8c1e-b535803d9999",
   "metadata": {},
   "outputs": [],
   "source": []
  }
 ],
 "metadata": {
  "kernelspec": {
   "display_name": "Python 3 (ipykernel)",
   "language": "python",
   "name": "python3"
  },
  "language_info": {
   "codemirror_mode": {
    "name": "ipython",
    "version": 3
   },
   "file_extension": ".py",
   "mimetype": "text/x-python",
   "name": "python",
   "nbconvert_exporter": "python",
   "pygments_lexer": "ipython3",
   "version": "3.9.13"
  }
 },
 "nbformat": 4,
 "nbformat_minor": 5
}

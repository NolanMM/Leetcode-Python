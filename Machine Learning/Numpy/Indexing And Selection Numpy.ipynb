{
 "cells": [
  {
   "cell_type": "markdown",
   "id": "427a75df-6710-4d9e-bbc6-013961e72313",
   "metadata": {},
   "source": [
    "### Indexing and Selection in Numpy - NolanM - 2024 - 17 - 05\n",
    "#### - Grabbing single element\n",
    "#### - Grabbing a slice of elements\n",
    "#### - Broadcasting selections\n",
    "#### - Indexing and selections in 2 dimensions\n",
    "#### - Conditional Selection"
   ]
  },
  {
   "cell_type": "code",
   "execution_count": 1,
   "id": "29ce91bf-c900-486a-8b11-46bcca8dd174",
   "metadata": {},
   "outputs": [],
   "source": [
    "import numpy as np"
   ]
  },
  {
   "cell_type": "markdown",
   "id": "ad52ae37-33f1-4727-b9be-f0fc299e40b2",
   "metadata": {},
   "source": [
    "#### 1. Grabbing single element"
   ]
  },
  {
   "cell_type": "code",
   "execution_count": 5,
   "id": "a62e3bab-52a6-4040-ad4c-2935a958a6b6",
   "metadata": {},
   "outputs": [
    {
     "data": {
      "text/plain": [
       "8"
      ]
     },
     "execution_count": 5,
     "metadata": {},
     "output_type": "execute_result"
    }
   ],
   "source": [
    "arr = np.arange(0,10)\n",
    "arr[8]"
   ]
  },
  {
   "cell_type": "code",
   "execution_count": 6,
   "id": "5b184806-0536-4290-a2bc-727c2bd8f6fb",
   "metadata": {},
   "outputs": [
    {
     "data": {
      "text/plain": [
       "array([0, 1, 2, 3, 4, 5, 6, 7, 8, 9])"
      ]
     },
     "execution_count": 6,
     "metadata": {},
     "output_type": "execute_result"
    }
   ],
   "source": [
    "arr"
   ]
  },
  {
   "cell_type": "markdown",
   "id": "6bc9b01c-3abd-491a-9117-4f81d9e22700",
   "metadata": {},
   "source": [
    "#### 2. Grabbing a slice of elements"
   ]
  },
  {
   "cell_type": "code",
   "execution_count": 7,
   "id": "af66e346-ca2f-4939-99a8-726ceb29f971",
   "metadata": {},
   "outputs": [
    {
     "data": {
      "text/plain": [
       "array([0, 1, 2, 3, 4, 5, 6, 7, 8, 9])"
      ]
     },
     "execution_count": 7,
     "metadata": {},
     "output_type": "execute_result"
    }
   ],
   "source": [
    "arr[:]"
   ]
  },
  {
   "cell_type": "code",
   "execution_count": 8,
   "id": "07e17b8b-53d9-45db-8b74-c9cf2fb24668",
   "metadata": {},
   "outputs": [
    {
     "data": {
      "text/plain": [
       "array([0, 1, 2, 3])"
      ]
     },
     "execution_count": 8,
     "metadata": {},
     "output_type": "execute_result"
    }
   ],
   "source": [
    "arr[:4]"
   ]
  },
  {
   "cell_type": "code",
   "execution_count": 9,
   "id": "7220438f-cb88-4a34-a07a-aca04b09f223",
   "metadata": {},
   "outputs": [
    {
     "data": {
      "text/plain": [
       "array([2, 3, 4, 5, 6, 7, 8, 9])"
      ]
     },
     "execution_count": 9,
     "metadata": {},
     "output_type": "execute_result"
    }
   ],
   "source": [
    "arr[2:]"
   ]
  },
  {
   "cell_type": "markdown",
   "id": "821dbc3b-402e-4502-8732-a1d227669f83",
   "metadata": {},
   "source": [
    "#### 3. Broadcasting selections"
   ]
  },
  {
   "cell_type": "code",
   "execution_count": 11,
   "id": "2fc981b4-6f89-426f-bd44-17b8d6c853c3",
   "metadata": {},
   "outputs": [
    {
     "data": {
      "text/plain": [
       "array([100, 100, 100, 100, 100,   5,   6,   7,   8,   9])"
      ]
     },
     "execution_count": 11,
     "metadata": {},
     "output_type": "execute_result"
    }
   ],
   "source": [
    "arr[:5] = 100\n",
    "arr"
   ]
  },
  {
   "cell_type": "code",
   "execution_count": 12,
   "id": "6b7621b4-395b-407e-9c2e-e8616cc9a711",
   "metadata": {},
   "outputs": [],
   "source": [
    "arr = np.arange(0,10)"
   ]
  },
  {
   "cell_type": "code",
   "execution_count": 14,
   "id": "53482279-b9d1-49fb-a82c-7bae62a3b7c4",
   "metadata": {},
   "outputs": [
    {
     "data": {
      "text/plain": [
       "array([0, 1, 2, 3, 4])"
      ]
     },
     "execution_count": 14,
     "metadata": {},
     "output_type": "execute_result"
    }
   ],
   "source": [
    "slice_of_array = arr[:5]\n",
    "slice_of_array"
   ]
  },
  {
   "cell_type": "markdown",
   "id": "8a8c3228-568e-462c-a275-6ad794e66432",
   "metadata": {},
   "source": [
    "##### *Note*: If we modify the values in the slice array it will modify the value in the original array too"
   ]
  },
  {
   "cell_type": "code",
   "execution_count": 15,
   "id": "70d3dba2-4bc2-4a2c-bcab-b244f932ba0c",
   "metadata": {},
   "outputs": [],
   "source": [
    "slice_of_array[:] = 100"
   ]
  },
  {
   "cell_type": "code",
   "execution_count": 16,
   "id": "c3fc2061-77ba-4190-9b95-46c6a796e3e1",
   "metadata": {},
   "outputs": [
    {
     "data": {
      "text/plain": [
       "array([100, 100, 100, 100, 100,   5,   6,   7,   8,   9])"
      ]
     },
     "execution_count": 16,
     "metadata": {},
     "output_type": "execute_result"
    }
   ],
   "source": [
    "arr"
   ]
  },
  {
   "cell_type": "markdown",
   "id": "3443a233-1063-435c-af35-9b7009c313b1",
   "metadata": {},
   "source": [
    "##### If we dont want to modify the value in the original array, we have to make a copy of array with arr.copy() method"
   ]
  },
  {
   "cell_type": "code",
   "execution_count": 19,
   "id": "9422dbb2-9d6d-4f0f-9152-810f3b5cc686",
   "metadata": {},
   "outputs": [
    {
     "name": "stdout",
     "output_type": "stream",
     "text": [
      "[0 1 2 3 4 5 6 7 8 9]\n"
     ]
    },
    {
     "data": {
      "text/plain": [
       "array([0, 1, 2, 3, 4])"
      ]
     },
     "execution_count": 19,
     "metadata": {},
     "output_type": "execute_result"
    }
   ],
   "source": [
    "arr = np.arange(0,10)\n",
    "slice_of_array = arr[:5].copy()\n",
    "print(arr)\n",
    "slice_of_array"
   ]
  },
  {
   "cell_type": "code",
   "execution_count": 20,
   "id": "691a125b-f31b-4ebc-b846-b9888d168885",
   "metadata": {},
   "outputs": [],
   "source": [
    "slice_of_array[:] = 1000"
   ]
  },
  {
   "cell_type": "code",
   "execution_count": 21,
   "id": "233d5db4-f568-4977-96ac-36f5e82bc419",
   "metadata": {},
   "outputs": [
    {
     "name": "stdout",
     "output_type": "stream",
     "text": [
      "[0 1 2 3 4 5 6 7 8 9]\n"
     ]
    },
    {
     "data": {
      "text/plain": [
       "array([1000, 1000, 1000, 1000, 1000])"
      ]
     },
     "execution_count": 21,
     "metadata": {},
     "output_type": "execute_result"
    }
   ],
   "source": [
    "print(arr)\n",
    "slice_of_array"
   ]
  },
  {
   "cell_type": "markdown",
   "id": "39ea4504-1590-4c71-857b-7938cad67f23",
   "metadata": {},
   "source": [
    "#### 4. Create 2 Dimensions Array"
   ]
  },
  {
   "cell_type": "code",
   "execution_count": 25,
   "id": "52c8edc1-3e86-4ed3-9c5f-b870d689f644",
   "metadata": {},
   "outputs": [
    {
     "data": {
      "text/plain": [
       "array([[ 5, 10, 15],\n",
       "       [20, 25, 30],\n",
       "       [35, 40, 45]])"
      ]
     },
     "execution_count": 25,
     "metadata": {},
     "output_type": "execute_result"
    }
   ],
   "source": [
    "arr_2d = np.array([[5,10,15],[20,25,30],[35,40,45]])\n",
    "arr_2d"
   ]
  },
  {
   "cell_type": "markdown",
   "id": "c7086041-abc6-4f3d-9c3f-22e0f64abe4e",
   "metadata": {},
   "source": [
    "#### 5. Indexing and selections in 2 dimensions"
   ]
  },
  {
   "cell_type": "code",
   "execution_count": 23,
   "id": "7346f417-bf67-451d-beef-42b6cbca1912",
   "metadata": {},
   "outputs": [
    {
     "name": "stdout",
     "output_type": "stream",
     "text": [
      "(3, 3)\n"
     ]
    },
    {
     "data": {
      "text/plain": [
       "array([ 5, 10, 15])"
      ]
     },
     "execution_count": 23,
     "metadata": {},
     "output_type": "execute_result"
    }
   ],
   "source": [
    "print(arr_2d.shape)\n",
    "arr_2d[0]"
   ]
  },
  {
   "cell_type": "code",
   "execution_count": 24,
   "id": "2f6c1b7f-cae9-4d1e-b1d9-2a55d7f6f71d",
   "metadata": {},
   "outputs": [
    {
     "data": {
      "text/plain": [
       "5"
      ]
     },
     "execution_count": 24,
     "metadata": {},
     "output_type": "execute_result"
    }
   ],
   "source": [
    "# arr_2d[row][colum]\n",
    "arr_2d[0][0]"
   ]
  },
  {
   "cell_type": "code",
   "execution_count": 27,
   "id": "76a88903-0f53-44fe-b951-352b44823a87",
   "metadata": {},
   "outputs": [
    {
     "data": {
      "text/plain": [
       "array([[10, 15],\n",
       "       [25, 30]])"
      ]
     },
     "execution_count": 27,
     "metadata": {},
     "output_type": "execute_result"
    }
   ],
   "source": [
    "arr_2d[ :2, 1:]"
   ]
  },
  {
   "cell_type": "markdown",
   "id": "efaf1428-a1dc-492d-b892-8db0fcf5ae8c",
   "metadata": {},
   "source": [
    "#### 6. Conditional Selection(Broadcasting)"
   ]
  },
  {
   "cell_type": "code",
   "execution_count": 29,
   "id": "6b38f816-9604-4e02-a3f8-fe4898898edb",
   "metadata": {},
   "outputs": [],
   "source": [
    "arr = np.arange(0,10)"
   ]
  },
  {
   "cell_type": "code",
   "execution_count": 32,
   "id": "91d76360-ba1d-40f2-bc58-323ceab34d84",
   "metadata": {},
   "outputs": [
    {
     "data": {
      "text/plain": [
       "array([False, False, False, False, False,  True,  True,  True,  True,\n",
       "        True])"
      ]
     },
     "execution_count": 32,
     "metadata": {},
     "output_type": "execute_result"
    }
   ],
   "source": [
    "bool_arr = arr > 4\n",
    "bool_arr"
   ]
  },
  {
   "cell_type": "code",
   "execution_count": 33,
   "id": "9d050057-afdb-4245-bc5b-e3077abdaa90",
   "metadata": {},
   "outputs": [
    {
     "data": {
      "text/plain": [
       "array([5, 6, 7, 8, 9])"
      ]
     },
     "execution_count": 33,
     "metadata": {},
     "output_type": "execute_result"
    }
   ],
   "source": [
    "arr[bool_arr]"
   ]
  },
  {
   "cell_type": "code",
   "execution_count": null,
   "id": "3a1231e2-a756-41ce-ba1b-2ccdd7bb6f7a",
   "metadata": {},
   "outputs": [],
   "source": []
  }
 ],
 "metadata": {
  "kernelspec": {
   "display_name": "Python 3 (ipykernel)",
   "language": "python",
   "name": "python3"
  },
  "language_info": {
   "codemirror_mode": {
    "name": "ipython",
    "version": 3
   },
   "file_extension": ".py",
   "mimetype": "text/x-python",
   "name": "python",
   "nbconvert_exporter": "python",
   "pygments_lexer": "ipython3",
   "version": "3.9.13"
  }
 },
 "nbformat": 4,
 "nbformat_minor": 5
}

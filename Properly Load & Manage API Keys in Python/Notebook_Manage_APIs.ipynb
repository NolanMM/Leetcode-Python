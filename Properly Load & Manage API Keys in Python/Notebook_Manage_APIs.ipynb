{
 "cells": [
  {
   "cell_type": "markdown",
   "source": [
    "# Properly Load & Manage API Keys in Python"
   ],
   "metadata": {
    "collapsed": false
   },
   "id": "1537a2094d48a1e6"
  },
  {
   "cell_type": "markdown",
   "source": [
    "## 1. Windows\n",
    "- Step 1: Open the Command Prompt\n",
    "- Step 2: Type `setx API_KEY \"asdasasfafdsfdfsd\"` and press enter\n",
    "- Step 3: In python, you can access the API key using `os.getenv('API_KEY')`"
   ],
   "metadata": {
    "collapsed": false
   },
   "id": "dc03a446859f1eff"
  },
  {
   "cell_type": "markdown",
   "source": [
    "## 2. Mac\n",
    "- Step 1: Open the Terminal\n",
    "- Step 2: Type `export API_KEY=\"gfgwfweg3453regrg\"` and press enter\n",
    "- Step 3: In python, you can access the API key using `os.getenv('API_KEY')`"
   ],
   "metadata": {
    "collapsed": false
   },
   "id": "d1d4c26bca98e98e"
  },
  {
   "cell_type": "markdown",
   "source": [
    "## 3. Linux\n",
    "- Step 1: Open the Terminal\n",
    "- Step 2: Type `export API_KEY=\"shsfdsgfgdsgsdfgsgdf\"` and press enter\n",
    "- Step 3: In python, you can access the API key using `os.getenv('API_KEY')`"
   ],
   "metadata": {
    "collapsed": false
   },
   "id": "784d13ced1f7e2d6"
  },
  {
   "cell_type": "markdown",
   "source": [
    "## 4. Using .env file\n",
    "- Step 1: Create a file named `.env` in the root directory of your project\n",
    "- Step 2: Add the API key to the file in the following format: `API_KEY=\"sdfgdfgdfgdfgdfgdfg\"`\n",
    "- Step 3: Install the `python-dotenv` package using `pip install python-dotenv`\n",
    "- Step 4: In python, you import the package and load the API key using the following code:\n",
    "```python\n",
    "from dotenv import load_dotenv\n",
    "import os\n",
    "\n",
    "load_dotenv()\n",
    "API_KEY = os.getenv('API_KEY')\n",
    "```\n",
    "            "
   ],
   "metadata": {
    "collapsed": false
   },
   "id": "a65187d2f1fda392"
  },
  {
   "cell_type": "markdown",
   "source": [
    "\n",
    "#### Note: \n",
    "- If the API key is sensitive, it is recommended to add the `.env` file to the `.gitignore` file to prevent it from being pushed to a public repository.\n",
    "- If the API key is collision with the existing environment variable, you can use the `overwrite=True` parameter in the `load_dotenv()` function.\n",
    "```python\n",
    "load_dotenv(overwrite=True)\n",
    "```"
   ],
   "metadata": {
    "collapsed": false
   },
   "id": "f298dbdd06bed89"
  },
  {
   "cell_type": "code",
   "outputs": [],
   "source": [],
   "metadata": {
    "collapsed": false
   },
   "id": "9a26ceef245060e5"
  }
 ],
 "metadata": {
  "kernelspec": {
   "display_name": "Python 3",
   "language": "python",
   "name": "python3"
  },
  "language_info": {
   "codemirror_mode": {
    "name": "ipython",
    "version": 2
   },
   "file_extension": ".py",
   "mimetype": "text/x-python",
   "name": "python",
   "nbconvert_exporter": "python",
   "pygments_lexer": "ipython2",
   "version": "2.7.6"
  }
 },
 "nbformat": 4,
 "nbformat_minor": 5
}

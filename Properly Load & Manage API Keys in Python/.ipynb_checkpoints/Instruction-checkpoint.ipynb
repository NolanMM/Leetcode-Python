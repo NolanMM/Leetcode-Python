{
 "cells": [
  {
   "cell_type": "markdown",
   "id": "b52fb5a9-37c6-4ecf-9259-1491a3304c72",
   "metadata": {},
   "source": [
    "# Properly Load & Manage API Keys in Python"
   ]
  },
  {
   "cell_type": "markdown",
   "id": "419fafb0-f5e0-4388-9c8c-7a6b923b98a2",
   "metadata": {},
   "source": [
    "## 1. Windows\n",
    "- Step 1: Open the Command Prompt\n",
    "- Step 2: Type `setx API_KEY \"asdasasfafdsfdfsd\"` and press enter\n",
    "- Step 3: In python, you can access the API key using `os.getenv('API_KEY')`"
   ]
  },
  {
   "cell_type": "markdown",
   "id": "188e5a66-431c-4ba7-9799-148e69f6942d",
   "metadata": {},
   "source": [
    "## 2. Mac\n",
    "- Step 1: Open the Terminal\n",
    "- Step 2: Type `export API_KEY=\"gfgwfweg3453regrg\"` and press enter\n",
    "- Step 3: In python, you can access the API key using `os.getenv('API_KEY')`"
   ]
  },
  {
   "cell_type": "markdown",
   "id": "93393332-6153-4cf3-8820-637974e0aa14",
   "metadata": {},
   "source": [
    "## 3. Linux\n",
    "- Step 1: Open the Terminal\n",
    "- Step 2: Type `export API_KEY=\"shsfdsgfgdsgsdfgsgdf\"` and press enter\n",
    "- Step 3: In python, you can access the API key using `os.getenv('API_KEY')`"
   ]
  },
  {
   "cell_type": "markdown",
   "id": "7ed4c380-41c4-45bd-ba52-f1e61a107c71",
   "metadata": {},
   "source": [
    "## 4. Using .env file\n",
    "- Step 1: Create a file named `.env` in the root directory of your project\n",
    "- Step 2: Add the API key to the file in the following format: `API_KEY=\"sdfgdfgdfgdfgdfgdfg\"`\n",
    "- Step 3: Install the `python-dotenv` package using `pip install python-dotenv`\n",
    "- Step 4: In python, you import the package and load the API key using the following code:\n",
    "```python\n",
    "from dotenv import load_dotenv\n",
    "import os\n",
    "\n",
    "load_dotenv()\n",
    "API_KEY = os.getenv('API_KEY')\n",
    "```"
   ]
  },
  {
   "cell_type": "markdown",
   "id": "e36098c7-aced-482d-acad-da1ff8d1cac5",
   "metadata": {},
   "source": [
    "#### Note: \n",
    "- If the API key is sensitive, it is recommended to add the `.env` file to the `.gitignore` file to prevent it from being pushed to a public repository.\n",
    "- If the API key is collision with the existing environment variable, you can use the `overwrite=True` parameter in the `load_dotenv()` function.\n",
    "```python\n",
    "load_dotenv(overwrite=True)\n",
    "```"
   ]
  },
  {
   "cell_type": "code",
   "execution_count": null,
   "id": "71f97022-9774-4590-ad7c-d4e322c99c07",
   "metadata": {},
   "outputs": [],
   "source": []
  }
 ],
 "metadata": {
  "kernelspec": {
   "display_name": "Python 3 (ipykernel)",
   "language": "python",
   "name": "python3"
  },
  "language_info": {
   "codemirror_mode": {
    "name": "ipython",
    "version": 3
   },
   "file_extension": ".py",
   "mimetype": "text/x-python",
   "name": "python",
   "nbconvert_exporter": "python",
   "pygments_lexer": "ipython3",
   "version": "3.9.13"
  }
 },
 "nbformat": 4,
 "nbformat_minor": 5
}

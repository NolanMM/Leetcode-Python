{
 "cells": [
  {
   "cell_type": "markdown",
   "id": "544c611c-114c-459f-b8ce-f25aac561810",
   "metadata": {},
   "source": [
    "### Create RDD"
   ]
  },
  {
   "cell_type": "code",
   "execution_count": 2,
   "id": "ad89ef3f-4362-46f1-819b-578e3795a5d4",
   "metadata": {
    "ExecuteTime": {
     "end_time": "2024-04-23T20:05:04.252546Z",
     "start_time": "2024-04-23T20:05:04.091968Z"
    }
   },
   "outputs": [],
   "source": [
    "import os\n",
    "from pyspark.sql import SparkSession"
   ]
  },
  {
   "cell_type": "code",
   "execution_count": 3,
   "id": "fc4c005f-6559-4a5f-9b06-0ef68312ea16",
   "metadata": {
    "ExecuteTime": {
     "end_time": "2024-04-23T20:05:13.391538Z",
     "start_time": "2024-04-23T20:05:05.207049Z"
    }
   },
   "outputs": [],
   "source": [
    "spark = SparkSession.builder \\\n",
    "        .appName(\"Spark-RDD\") \\\n",
    "        .getOrCreate()"
   ]
  },
  {
   "cell_type": "code",
   "execution_count": 3,
   "id": "c66b11bf-70c5-4553-ac8b-cde5a545361a",
   "metadata": {},
   "outputs": [],
   "source": [
    "numbers = [1,2,3,4,5,6,7]\n",
    "rdd = spark.sparkContext.parallelize(numbers)"
   ]
  },
  {
   "cell_type": "code",
   "execution_count": 4,
   "id": "c53c03fc-a9c1-4715-bead-2d9f2d182fcb",
   "metadata": {},
   "outputs": [
    {
     "data": {
      "text/plain": [
       "[1, 2, 3, 4, 5, 6, 7]"
      ]
     },
     "execution_count": 4,
     "metadata": {},
     "output_type": "execute_result"
    }
   ],
   "source": [
    "rdd.collect()"
   ]
  },
  {
   "cell_type": "code",
   "execution_count": 5,
   "id": "88bed5f9-cb47-4b7c-bbdf-aa1be4ce571e",
   "metadata": {},
   "outputs": [],
   "source": [
    "data = [(\"Alice\",25), (\"Bob\",23), (\"Minh\",22)]\n",
    "rdd_tuple_data = spark.sparkContext.parallelize(data)"
   ]
  },
  {
   "cell_type": "code",
   "execution_count": 6,
   "id": "7f5952e6-1447-4da9-a09a-92f0b0585165",
   "metadata": {},
   "outputs": [
    {
     "data": {
      "text/plain": [
       "[('Alice', 25), ('Bob', 23), ('Minh', 22)]"
      ]
     },
     "execution_count": 6,
     "metadata": {},
     "output_type": "execute_result"
    }
   ],
   "source": [
    "rdd_tuple_data.collect()"
   ]
  },
  {
   "cell_type": "code",
   "outputs": [],
   "source": [
    "spark.stop()"
   ],
   "metadata": {
    "collapsed": false,
    "ExecuteTime": {
     "end_time": "2024-04-23T20:05:31.710535Z",
     "start_time": "2024-04-23T20:05:31.566427Z"
    }
   },
   "id": "dcf8b6a49b7df52",
   "execution_count": 4
  },
  {
   "cell_type": "markdown",
   "id": "f194e8ca-4bb6-41f5-96e4-289c63a21d92",
   "metadata": {},
   "source": [
    "### RDDs Operation Actions"
   ]
  },
  {
   "cell_type": "code",
   "execution_count": null,
   "id": "fc2c19d0-a9ed-4b19-8c6f-9a124bd43540",
   "metadata": {},
   "outputs": [],
   "source": []
  }
 ],
 "metadata": {
  "kernelspec": {
   "display_name": "Python 3 (ipykernel)",
   "language": "python",
   "name": "python3"
  },
  "language_info": {
   "codemirror_mode": {
    "name": "ipython",
    "version": 3
   },
   "file_extension": ".py",
   "mimetype": "text/x-python",
   "name": "python",
   "nbconvert_exporter": "python",
   "pygments_lexer": "ipython3",
   "version": "3.9.13"
  }
 },
 "nbformat": 4,
 "nbformat_minor": 5
}

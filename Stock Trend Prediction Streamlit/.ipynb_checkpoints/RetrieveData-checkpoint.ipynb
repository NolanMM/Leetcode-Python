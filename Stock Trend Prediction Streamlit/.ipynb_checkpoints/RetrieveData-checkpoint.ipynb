{
 "cells": [
  {
   "cell_type": "raw",
   "source": [],
   "metadata": {
    "collapsed": false
   },
   "id": "ccf5e2cc93cdc8c9"
  }
 ],
 "metadata": {},
 "nbformat": 4,
 "nbformat_minor": 5
}
